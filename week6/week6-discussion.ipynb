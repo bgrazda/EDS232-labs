{
 "cells": [
  {
   "cell_type": "markdown",
   "id": "d1a96a8b-25b5-45bf-8be6-574350180d1d",
   "metadata": {},
   "source": [
    "# Week 6 Discussion"
   ]
  },
  {
   "cell_type": "code",
   "execution_count": 3,
   "id": "2f2657b4-a0db-4ead-936d-0da6020fa09e",
   "metadata": {
    "tags": []
   },
   "outputs": [],
   "source": [
    "## Load data\n",
    "\n",
    "import numpy as np\n",
    "import pandas as pd\n",
    "from sklearn.model_selection import train_test_split\n",
    "from sklearn.ensemble import RandomForestClassifier, BaggingClassifier\n",
    "from sklearn.tree import DecisionTreeClassifier\n",
    "from sklearn.preprocessing import StandardScaler\n",
    "from sklearn.preprocessing import LabelEncoder\n",
    "from sklearn.impute import SimpleImputer, KNNImputer\n",
    "from sklearn.metrics import mean_squared_error, accuracy_score, r2_score\n",
    "from ucimlrepo import fetch_ucirepo "
   ]
  },
  {
   "cell_type": "code",
   "execution_count": 2,
   "id": "5075cd95-3101-4acf-a385-a8f3e1c91cb3",
   "metadata": {
    "tags": []
   },
   "outputs": [
    {
     "data": {
      "text/html": [
       "<div>\n",
       "<style scoped>\n",
       "    .dataframe tbody tr th:only-of-type {\n",
       "        vertical-align: middle;\n",
       "    }\n",
       "\n",
       "    .dataframe tbody tr th {\n",
       "        vertical-align: top;\n",
       "    }\n",
       "\n",
       "    .dataframe thead th {\n",
       "        text-align: right;\n",
       "    }\n",
       "</style>\n",
       "<table border=\"1\" class=\"dataframe\">\n",
       "  <thead>\n",
       "    <tr style=\"text-align: right;\">\n",
       "      <th></th>\n",
       "      <th>cap-shape</th>\n",
       "      <th>cap-surface</th>\n",
       "      <th>cap-color</th>\n",
       "      <th>bruises</th>\n",
       "      <th>odor</th>\n",
       "      <th>gill-attachment</th>\n",
       "      <th>gill-spacing</th>\n",
       "      <th>gill-size</th>\n",
       "      <th>gill-color</th>\n",
       "      <th>stalk-shape</th>\n",
       "      <th>stalk-root</th>\n",
       "      <th>stalk-surface-above-ring</th>\n",
       "      <th>stalk-surface-below-ring</th>\n",
       "      <th>stalk-color-above-ring</th>\n",
       "      <th>stalk-color-below-ring</th>\n",
       "      <th>veil-type</th>\n",
       "      <th>veil-color</th>\n",
       "      <th>ring-number</th>\n",
       "      <th>ring-type</th>\n",
       "      <th>spore-print-color</th>\n",
       "      <th>population</th>\n",
       "      <th>habitat</th>\n",
       "    </tr>\n",
       "  </thead>\n",
       "  <tbody>\n",
       "    <tr>\n",
       "      <th>0</th>\n",
       "      <td>x</td>\n",
       "      <td>s</td>\n",
       "      <td>n</td>\n",
       "      <td>t</td>\n",
       "      <td>p</td>\n",
       "      <td>f</td>\n",
       "      <td>c</td>\n",
       "      <td>n</td>\n",
       "      <td>k</td>\n",
       "      <td>e</td>\n",
       "      <td>e</td>\n",
       "      <td>s</td>\n",
       "      <td>s</td>\n",
       "      <td>w</td>\n",
       "      <td>w</td>\n",
       "      <td>p</td>\n",
       "      <td>w</td>\n",
       "      <td>o</td>\n",
       "      <td>p</td>\n",
       "      <td>k</td>\n",
       "      <td>s</td>\n",
       "      <td>u</td>\n",
       "    </tr>\n",
       "    <tr>\n",
       "      <th>1</th>\n",
       "      <td>x</td>\n",
       "      <td>s</td>\n",
       "      <td>y</td>\n",
       "      <td>t</td>\n",
       "      <td>a</td>\n",
       "      <td>f</td>\n",
       "      <td>c</td>\n",
       "      <td>b</td>\n",
       "      <td>k</td>\n",
       "      <td>e</td>\n",
       "      <td>c</td>\n",
       "      <td>s</td>\n",
       "      <td>s</td>\n",
       "      <td>w</td>\n",
       "      <td>w</td>\n",
       "      <td>p</td>\n",
       "      <td>w</td>\n",
       "      <td>o</td>\n",
       "      <td>p</td>\n",
       "      <td>n</td>\n",
       "      <td>n</td>\n",
       "      <td>g</td>\n",
       "    </tr>\n",
       "    <tr>\n",
       "      <th>2</th>\n",
       "      <td>b</td>\n",
       "      <td>s</td>\n",
       "      <td>w</td>\n",
       "      <td>t</td>\n",
       "      <td>l</td>\n",
       "      <td>f</td>\n",
       "      <td>c</td>\n",
       "      <td>b</td>\n",
       "      <td>n</td>\n",
       "      <td>e</td>\n",
       "      <td>c</td>\n",
       "      <td>s</td>\n",
       "      <td>s</td>\n",
       "      <td>w</td>\n",
       "      <td>w</td>\n",
       "      <td>p</td>\n",
       "      <td>w</td>\n",
       "      <td>o</td>\n",
       "      <td>p</td>\n",
       "      <td>n</td>\n",
       "      <td>n</td>\n",
       "      <td>m</td>\n",
       "    </tr>\n",
       "    <tr>\n",
       "      <th>3</th>\n",
       "      <td>x</td>\n",
       "      <td>y</td>\n",
       "      <td>w</td>\n",
       "      <td>t</td>\n",
       "      <td>p</td>\n",
       "      <td>f</td>\n",
       "      <td>c</td>\n",
       "      <td>n</td>\n",
       "      <td>n</td>\n",
       "      <td>e</td>\n",
       "      <td>e</td>\n",
       "      <td>s</td>\n",
       "      <td>s</td>\n",
       "      <td>w</td>\n",
       "      <td>w</td>\n",
       "      <td>p</td>\n",
       "      <td>w</td>\n",
       "      <td>o</td>\n",
       "      <td>p</td>\n",
       "      <td>k</td>\n",
       "      <td>s</td>\n",
       "      <td>u</td>\n",
       "    </tr>\n",
       "    <tr>\n",
       "      <th>4</th>\n",
       "      <td>x</td>\n",
       "      <td>s</td>\n",
       "      <td>g</td>\n",
       "      <td>f</td>\n",
       "      <td>n</td>\n",
       "      <td>f</td>\n",
       "      <td>w</td>\n",
       "      <td>b</td>\n",
       "      <td>k</td>\n",
       "      <td>t</td>\n",
       "      <td>e</td>\n",
       "      <td>s</td>\n",
       "      <td>s</td>\n",
       "      <td>w</td>\n",
       "      <td>w</td>\n",
       "      <td>p</td>\n",
       "      <td>w</td>\n",
       "      <td>o</td>\n",
       "      <td>e</td>\n",
       "      <td>n</td>\n",
       "      <td>a</td>\n",
       "      <td>g</td>\n",
       "    </tr>\n",
       "  </tbody>\n",
       "</table>\n",
       "</div>"
      ],
      "text/plain": [
       "  cap-shape cap-surface cap-color bruises odor gill-attachment gill-spacing  \\\n",
       "0         x           s         n       t    p               f            c   \n",
       "1         x           s         y       t    a               f            c   \n",
       "2         b           s         w       t    l               f            c   \n",
       "3         x           y         w       t    p               f            c   \n",
       "4         x           s         g       f    n               f            w   \n",
       "\n",
       "  gill-size gill-color stalk-shape stalk-root stalk-surface-above-ring  \\\n",
       "0         n          k           e          e                        s   \n",
       "1         b          k           e          c                        s   \n",
       "2         b          n           e          c                        s   \n",
       "3         n          n           e          e                        s   \n",
       "4         b          k           t          e                        s   \n",
       "\n",
       "  stalk-surface-below-ring stalk-color-above-ring stalk-color-below-ring  \\\n",
       "0                        s                      w                      w   \n",
       "1                        s                      w                      w   \n",
       "2                        s                      w                      w   \n",
       "3                        s                      w                      w   \n",
       "4                        s                      w                      w   \n",
       "\n",
       "  veil-type veil-color ring-number ring-type spore-print-color population  \\\n",
       "0         p          w           o         p                 k          s   \n",
       "1         p          w           o         p                 n          n   \n",
       "2         p          w           o         p                 n          n   \n",
       "3         p          w           o         p                 k          s   \n",
       "4         p          w           o         e                 n          a   \n",
       "\n",
       "  habitat  \n",
       "0       u  \n",
       "1       g  \n",
       "2       m  \n",
       "3       u  \n",
       "4       g  "
      ]
     },
     "execution_count": 2,
     "metadata": {},
     "output_type": "execute_result"
    }
   ],
   "source": [
    "# Fetch dataset \n",
    "mushroom = fetch_ucirepo(id=73) \n",
    "  \n",
    "# Save data as X and y variables\n",
    "X = mushroom.data.features \n",
    "y = np.ravel(mushroom.data.targets)\n",
    "\n",
    "# Expand dataframe columns and look at view dataframe\n",
    "pd.set_option('display.max_columns', None)\n",
    "X.head()"
   ]
  },
  {
   "cell_type": "code",
   "execution_count": 4,
   "id": "c674f8a5-99ac-482d-9c5f-20a8b316c6be",
   "metadata": {
    "tags": []
   },
   "outputs": [
    {
     "data": {
      "text/html": [
       "<div>\n",
       "<style scoped>\n",
       "    .dataframe tbody tr th:only-of-type {\n",
       "        vertical-align: middle;\n",
       "    }\n",
       "\n",
       "    .dataframe tbody tr th {\n",
       "        vertical-align: top;\n",
       "    }\n",
       "\n",
       "    .dataframe thead th {\n",
       "        text-align: right;\n",
       "    }\n",
       "</style>\n",
       "<table border=\"1\" class=\"dataframe\">\n",
       "  <thead>\n",
       "    <tr style=\"text-align: right;\">\n",
       "      <th></th>\n",
       "      <th>cap-shape</th>\n",
       "      <th>cap-surface</th>\n",
       "      <th>cap-color</th>\n",
       "      <th>bruises</th>\n",
       "      <th>odor</th>\n",
       "    </tr>\n",
       "  </thead>\n",
       "  <tbody>\n",
       "    <tr>\n",
       "      <th>0</th>\n",
       "      <td>5</td>\n",
       "      <td>2</td>\n",
       "      <td>4</td>\n",
       "      <td>1</td>\n",
       "      <td>6</td>\n",
       "    </tr>\n",
       "    <tr>\n",
       "      <th>1</th>\n",
       "      <td>5</td>\n",
       "      <td>2</td>\n",
       "      <td>9</td>\n",
       "      <td>1</td>\n",
       "      <td>0</td>\n",
       "    </tr>\n",
       "    <tr>\n",
       "      <th>2</th>\n",
       "      <td>0</td>\n",
       "      <td>2</td>\n",
       "      <td>8</td>\n",
       "      <td>1</td>\n",
       "      <td>3</td>\n",
       "    </tr>\n",
       "    <tr>\n",
       "      <th>3</th>\n",
       "      <td>5</td>\n",
       "      <td>3</td>\n",
       "      <td>8</td>\n",
       "      <td>1</td>\n",
       "      <td>6</td>\n",
       "    </tr>\n",
       "    <tr>\n",
       "      <th>4</th>\n",
       "      <td>5</td>\n",
       "      <td>2</td>\n",
       "      <td>3</td>\n",
       "      <td>0</td>\n",
       "      <td>5</td>\n",
       "    </tr>\n",
       "  </tbody>\n",
       "</table>\n",
       "</div>"
      ],
      "text/plain": [
       "  cap-shape cap-surface cap-color bruises odor\n",
       "0         5           2         4       1    6\n",
       "1         5           2         9       1    0\n",
       "2         0           2         8       1    3\n",
       "3         5           3         8       1    6\n",
       "4         5           2         3       0    5"
      ]
     },
     "execution_count": 4,
     "metadata": {},
     "output_type": "execute_result"
    }
   ],
   "source": [
    "# Factorize all columns\n",
    "for col in X.columns:\n",
    "    X.loc[:, col] = pd.factorize(X[col], sort = True)[0]\n",
    "\n",
    "# View first few rows of enccoded data\n",
    "X.iloc[0:5, 0:5]"
   ]
  },
  {
   "cell_type": "markdown",
   "id": "8d8a67bb-f6bb-4cfb-aa20-dfbd3f57004f",
   "metadata": {},
   "source": [
    "### Time to impute!"
   ]
  },
  {
   "cell_type": "code",
   "execution_count": 5,
   "id": "aedaaf7e-48f3-4d5d-8b33-b16224ebdfd0",
   "metadata": {
    "tags": []
   },
   "outputs": [
    {
     "data": {
      "text/plain": [
       "cap-shape                   0\n",
       "cap-surface                 0\n",
       "cap-color                   0\n",
       "bruises                     0\n",
       "odor                        0\n",
       "gill-attachment             0\n",
       "gill-spacing                0\n",
       "gill-size                   0\n",
       "gill-color                  0\n",
       "stalk-shape                 0\n",
       "stalk-root                  0\n",
       "stalk-surface-above-ring    0\n",
       "stalk-surface-below-ring    0\n",
       "stalk-color-above-ring      0\n",
       "stalk-color-below-ring      0\n",
       "veil-type                   0\n",
       "veil-color                  0\n",
       "ring-number                 0\n",
       "ring-type                   0\n",
       "spore-print-color           0\n",
       "population                  0\n",
       "habitat                     0\n",
       "dtype: int64"
      ]
     },
     "execution_count": 5,
     "metadata": {},
     "output_type": "execute_result"
    }
   ],
   "source": [
    "X.isna().sum()"
   ]
  },
  {
   "cell_type": "code",
   "execution_count": 7,
   "id": "f7f68805-5aaa-4fa7-953c-d6e9e45e2a14",
   "metadata": {
    "tags": []
   },
   "outputs": [],
   "source": [
    "# Create copy of X variables\n",
    "X_Na = X.copy()"
   ]
  },
  {
   "cell_type": "code",
   "execution_count": 8,
   "id": "301f8ad8-a083-4daa-9bbe-87e4dc209dbc",
   "metadata": {
    "tags": []
   },
   "outputs": [],
   "source": [
    "# Assign 10% of new dataframe with NA values\n",
    "for col in X_Na.columns: \n",
    "    X_Na.loc[X_Na.sample(frac = 0.1).index, col] = np.nan\n",
    "    "
   ]
  },
  {
   "cell_type": "code",
   "execution_count": 9,
   "id": "65506056-c905-4f15-99db-3039af4c6a2f",
   "metadata": {
    "tags": []
   },
   "outputs": [
    {
     "data": {
      "text/plain": [
       "cap-shape                   812\n",
       "cap-surface                 812\n",
       "cap-color                   812\n",
       "bruises                     812\n",
       "odor                        812\n",
       "gill-attachment             812\n",
       "gill-spacing                812\n",
       "gill-size                   812\n",
       "gill-color                  812\n",
       "stalk-shape                 812\n",
       "stalk-root                  812\n",
       "stalk-surface-above-ring    812\n",
       "stalk-surface-below-ring    812\n",
       "stalk-color-above-ring      812\n",
       "stalk-color-below-ring      812\n",
       "veil-type                   812\n",
       "veil-color                  812\n",
       "ring-number                 812\n",
       "ring-type                   812\n",
       "spore-print-color           812\n",
       "population                  812\n",
       "habitat                     812\n",
       "dtype: int64"
      ]
     },
     "execution_count": 9,
     "metadata": {},
     "output_type": "execute_result"
    }
   ],
   "source": [
    "# Check to make sure there are missing values\n",
    "X_Na.isna().sum()"
   ]
  },
  {
   "cell_type": "markdown",
   "id": "ee734deb-fae4-4e91-bbb7-70465639364d",
   "metadata": {},
   "source": [
    "### Imputation method #1: Filling NA values with the mode"
   ]
  },
  {
   "cell_type": "code",
   "execution_count": 11,
   "id": "dbf034fc-8afe-4ec6-9155-022746a6e78f",
   "metadata": {
    "tags": []
   },
   "outputs": [
    {
     "data": {
      "text/plain": [
       "cap-shape                   0\n",
       "cap-surface                 0\n",
       "cap-color                   0\n",
       "bruises                     0\n",
       "odor                        0\n",
       "gill-attachment             0\n",
       "gill-spacing                0\n",
       "gill-size                   0\n",
       "gill-color                  0\n",
       "stalk-shape                 0\n",
       "stalk-root                  0\n",
       "stalk-surface-above-ring    0\n",
       "stalk-surface-below-ring    0\n",
       "stalk-color-above-ring      0\n",
       "stalk-color-below-ring      0\n",
       "veil-type                   0\n",
       "veil-color                  0\n",
       "ring-number                 0\n",
       "ring-type                   0\n",
       "spore-print-color           0\n",
       "population                  0\n",
       "habitat                     0\n",
       "dtype: int64"
      ]
     },
     "execution_count": 11,
     "metadata": {},
     "output_type": "execute_result"
    }
   ],
   "source": [
    "# Impute with mode\n",
    "X_mode_impute = X_Na.fillna(X_Na.mode().iloc[0]) # Needs a series, iloc pulls out first element for Series\n",
    "\n",
    "# Check to make sure there are no NAs\n",
    "X_mode_impute.isna().sum()"
   ]
  },
  {
   "cell_type": "markdown",
   "id": "f6842b22-9e43-4f5f-a84b-cef014164363",
   "metadata": {},
   "source": [
    "#### Imputation method #2: Filling NA values with the median using SimpleImputer"
   ]
  },
  {
   "cell_type": "code",
   "execution_count": 12,
   "id": "afb65d9a-0094-4158-8c7d-b1c9c8025692",
   "metadata": {
    "tags": []
   },
   "outputs": [
    {
     "data": {
      "text/plain": [
       "cap-shape                   0\n",
       "cap-surface                 0\n",
       "cap-color                   0\n",
       "bruises                     0\n",
       "odor                        0\n",
       "gill-attachment             0\n",
       "gill-spacing                0\n",
       "gill-size                   0\n",
       "gill-color                  0\n",
       "stalk-shape                 0\n",
       "stalk-root                  0\n",
       "stalk-surface-above-ring    0\n",
       "stalk-surface-below-ring    0\n",
       "stalk-color-above-ring      0\n",
       "stalk-color-below-ring      0\n",
       "veil-type                   0\n",
       "veil-color                  0\n",
       "ring-number                 0\n",
       "ring-type                   0\n",
       "spore-print-color           0\n",
       "population                  0\n",
       "habitat                     0\n",
       "dtype: int64"
      ]
     },
     "execution_count": 12,
     "metadata": {},
     "output_type": "execute_result"
    }
   ],
   "source": [
    "# Impute with median (using SimpleImputer)\n",
    "median_impute = SimpleImputer(strategy = 'median')\n",
    "X_median_impute = median_impute.fit_transform(X_Na)\n",
    "X_median_impute = pd.DataFrame(X_median_impute, columns = X.columns)\n",
    "\n",
    "# Check to make sure there are no NAs\n",
    "X_median_impute.isna().sum()"
   ]
  },
  {
   "cell_type": "code",
   "execution_count": 14,
   "id": "6b43b3dc-39a0-4d21-a413-d1b97b7e568f",
   "metadata": {
    "tags": []
   },
   "outputs": [
    {
     "data": {
      "text/plain": [
       "cap-shape                   0\n",
       "cap-surface                 0\n",
       "cap-color                   0\n",
       "bruises                     0\n",
       "odor                        0\n",
       "gill-attachment             0\n",
       "gill-spacing                0\n",
       "gill-size                   0\n",
       "gill-color                  0\n",
       "stalk-shape                 0\n",
       "stalk-root                  0\n",
       "stalk-surface-above-ring    0\n",
       "stalk-surface-below-ring    0\n",
       "stalk-color-above-ring      0\n",
       "stalk-color-below-ring      0\n",
       "veil-type                   0\n",
       "veil-color                  0\n",
       "ring-number                 0\n",
       "ring-type                   0\n",
       "spore-print-color           0\n",
       "population                  0\n",
       "habitat                     0\n",
       "dtype: int64"
      ]
     },
     "execution_count": 14,
     "metadata": {},
     "output_type": "execute_result"
    }
   ],
   "source": [
    "### Imputate with KNN Imputer\n",
    "knn_impute = KNNImputer(n_neighbors = 20)\n",
    "\n",
    "X_knn_impute = knn_impute.fit_transform(X_Na)\n",
    "\n",
    "# Make into dataframe\n",
    "X_knn_impute = pd.DataFrame(X_knn_impute, columns = X_Na.columns)\n",
    "\n",
    "# Check to make sure there are no NAs\n",
    "X_knn_impute.isna().sum()"
   ]
  },
  {
   "cell_type": "code",
   "execution_count": 16,
   "id": "4c2acee7-6847-40da-9836-acbed4d67b76",
   "metadata": {
    "tags": []
   },
   "outputs": [
    {
     "name": "stdout",
     "output_type": "stream",
     "text": [
      "Mode imputation performance: 0.43969047938767286\n",
      "Median imputation performance: 0.26107269146412426\n",
      "KNN imputation performance: 0.1018852250346896\n"
     ]
    }
   ],
   "source": [
    "# Calculate imputation accuracy using mean squared error\n",
    "mse_mode = mean_squared_error(X, X_mode_impute)\n",
    "mse_median = mean_squared_error(X, X_median_impute)\n",
    "mse_knn = mean_squared_error(X, X_knn_impute)\n",
    "\n",
    "# Report results\n",
    "print(f\"Mode imputation performance: {mse_mode}\")\n",
    "print(f\"Median imputation performance: {mse_median}\")\n",
    "print(f\"KNN imputation performance: {mse_knn}\")"
   ]
  },
  {
   "cell_type": "code",
   "execution_count": 18,
   "id": "4e8ceb73-d2cf-40bf-bf3a-0ab97c7b54f1",
   "metadata": {
    "tags": []
   },
   "outputs": [
    {
     "name": "stdout",
     "output_type": "stream",
     "text": [
      "Mode imputation performance: 0.8486176160860534\n",
      "Median imputation performance: 0.8799949989912889\n",
      "KNN imputation performance: 0.9675771701458413\n"
     ]
    }
   ],
   "source": [
    "# Calculate imputation accuracy using mean squared error\n",
    "r2_mode = r2_score(X, X_mode_impute)\n",
    "r2_median = r2_score(X, X_median_impute)\n",
    "r2_knn = r2_score(X, X_knn_impute)\n",
    "\n",
    "# Report results\n",
    "print(f\"Mode imputation performance: {r2_mode}\")\n",
    "print(f\"Median imputation performance: {r2_median}\")\n",
    "print(f\"KNN imputation performance: {r2_knn}\")"
   ]
  },
  {
   "cell_type": "markdown",
   "id": "8db7f35b-b869-4714-a9e2-74ff31acbdd8",
   "metadata": {},
   "source": [
    "### Random Forest Classifier with original data"
   ]
  },
  {
   "cell_type": "code",
   "execution_count": 19,
   "id": "747bcd32-fbf1-40dd-a253-9fbcd5015324",
   "metadata": {
    "tags": []
   },
   "outputs": [],
   "source": [
    "# Split actual data\n",
    "X_train, X_test, y_train, y_test = train_test_split(X, y, test_size = 0.3, random_state = 42)"
   ]
  },
  {
   "cell_type": "code",
   "execution_count": 22,
   "id": "b98884a4-753b-448a-8fe1-eb57b767f7c2",
   "metadata": {
    "tags": []
   },
   "outputs": [
    {
     "name": "stdout",
     "output_type": "stream",
     "text": [
      "Number of features: 1; Random Forest Accuracy: 0.916735028712059\n",
      "Number of features: 4; Random Forest Accuracy: 0.9848236259228876\n",
      "Number of features: 7; Random Forest Accuracy: 0.9868744872846595\n",
      "Number of features: 10; Random Forest Accuracy: 0.9835931091058244\n",
      "Number of features: 13; Random Forest Accuracy: 0.9823625922887613\n",
      "Number of features: 16; Random Forest Accuracy: 0.9860541427399507\n",
      "Number of features: 19; Random Forest Accuracy: 0.9819524200164069\n",
      "Number of features: 22; Random Forest Accuracy: 0.9577522559474979\n"
     ]
    }
   ],
   "source": [
    "# Number of features to incldue for tuning\n",
    "num_features = [1, 4, 7, 10, 13, 16, 19, 22]\n",
    "accuracy = []\n",
    "\n",
    "for feature in num_features:\n",
    "    rf_classifier = RandomForestClassifier(\n",
    "    n_estimators = 50,\n",
    "    max_depth = 3, \n",
    "    random_state = 42,\n",
    "    max_features = feature\n",
    "    )\n",
    "    \n",
    "    # Train model\n",
    "    rf_classifier.fit(X_train, y_train)\n",
    "    \n",
    "    # Predict and evaluate\n",
    "    y_pred = rf_classifier.predict(X_test)\n",
    "    rf_accuracy = accuracy_score(y_test, y_pred)\n",
    "    accuracy.append(rf_accuracy)\n",
    "    print(f\"Number of features: {feature}; Random Forest Accuracy: {rf_accuracy}\")"
   ]
  },
  {
   "cell_type": "markdown",
   "id": "7279d733-f3ec-4f0e-94c0-a87f1012e03a",
   "metadata": {},
   "source": [
    "# Random forest Classifier with imputed data:"
   ]
  },
  {
   "cell_type": "code",
   "execution_count": 23,
   "id": "1f5920e0-a74b-463f-b2be-341c8c6d3628",
   "metadata": {
    "tags": []
   },
   "outputs": [],
   "source": [
    "X_train, X_test, y_train, y_test = train_test_split(X_knn_impute, y, test_size = 0.3, random_state = 42)"
   ]
  },
  {
   "cell_type": "code",
   "execution_count": 24,
   "id": "9987b4ad-1f0d-49c2-a374-20eafd2904a0",
   "metadata": {
    "tags": []
   },
   "outputs": [
    {
     "name": "stdout",
     "output_type": "stream",
     "text": [
      "Number of features: 1; Random Forest Accuracy: 0.9200164068908941\n",
      "Number of features: 4; Random Forest Accuracy: 0.9766201804757998\n",
      "Number of features: 7; Random Forest Accuracy: 0.9848236259228876\n",
      "Number of features: 10; Random Forest Accuracy: 0.9811320754716981\n",
      "Number of features: 13; Random Forest Accuracy: 0.9844134536505332\n",
      "Number of features: 16; Random Forest Accuracy: 0.977850697292863\n",
      "Number of features: 19; Random Forest Accuracy: 0.9659557013945858\n",
      "Number of features: 22; Random Forest Accuracy: 0.955701394585726\n"
     ]
    }
   ],
   "source": [
    "# Number of features to incldue for tuning\n",
    "num_features = [1, 4, 7, 10, 13, 16, 19, 22]\n",
    "accuracy = []\n",
    "\n",
    "for feature in num_features:\n",
    "    rf_classifier = RandomForestClassifier(\n",
    "    n_estimators = 50,\n",
    "    max_depth = 3, \n",
    "    random_state = 42,\n",
    "    max_features = feature\n",
    "    )\n",
    "    \n",
    "    # Train model\n",
    "    rf_classifier.fit(X_train, y_train)\n",
    "    \n",
    "    # Predict and evaluate\n",
    "    y_pred = rf_classifier.predict(X_test)\n",
    "    rf_accuracy = accuracy_score(y_test, y_pred)\n",
    "    accuracy.append(rf_accuracy)\n",
    "    print(f\"Number of features: {feature}; Random Forest Accuracy: {rf_accuracy}\")"
   ]
  }
 ],
 "metadata": {
  "kernelspec": {
   "display_name": "Anaconda 3 (EDS232)",
   "language": "python",
   "name": "ml-env"
  },
  "language_info": {
   "codemirror_mode": {
    "name": "ipython",
    "version": 3
   },
   "file_extension": ".py",
   "mimetype": "text/x-python",
   "name": "python",
   "nbconvert_exporter": "python",
   "pygments_lexer": "ipython3",
   "version": "3.10.16"
  }
 },
 "nbformat": 4,
 "nbformat_minor": 5
}
