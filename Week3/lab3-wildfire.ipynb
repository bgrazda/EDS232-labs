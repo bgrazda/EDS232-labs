{
 "cells": [
  {
   "cell_type": "code",
   "execution_count": 41,
   "id": "6d41e7de-5f0c-4baf-a37f-ec5dbe4f7428",
   "metadata": {
    "tags": []
   },
   "outputs": [],
   "source": [
    "# Imports\n",
    "import pandas as pd\n",
    "import numpy as np\n",
    "from sklearn.model_selection import train_test_split\n",
    "from sklearn.preprocessing import StandardScaler\n",
    "from sklearn.linear_model import LogisticRegression\n",
    "from sklearn.dummy import DummyClassifier\n",
    "from sklearn.metrics import accuracy_score, confusion_matrix, classification_report, roc_curve, roc_auc_score, ConfusionMatrixDisplay\n",
    "import matplotlib.pyplot as plt\n",
    "import seaborn as sns\n"
   ]
  },
  {
   "cell_type": "markdown",
   "id": "e492775e-957c-40b4-b64f-5de93dbea5e1",
   "metadata": {},
   "source": [
    "# Lab 4: Fire and Tree Mortality\n",
    "\n",
    "# About the data\n",
    "Wildfires are increasingly frequent and severe due to climate change. Predicting tree mortality following a wildfire is critical for forest management, ecosystem recovery, and carbon sequestration planning. In this lab, we will build a logistic regression model to predict the probability of tree mortality one year after a wildfire\n",
    "\n",
    "The database we'll be working with today includes observations of individual trees involved in prescribed fires and wildfires occurring over 35 years, from 1981 to 2016. It is drawn from a fire and tree mortality database from the US Forest Service (see data description for the full database here: [link](https://www.nature.com/articles/s41597-020-0522-7#Sec10)).\n",
    "\n",
    "The target variable we'll use is `yr1status`, which is a binary variable (0=alive, 1=dead).  This tells us if a tree has died one year after a fire event.\n",
    "\n",
    "The features we'll use are `YrFireName`, `Times_burned`, `Species`, `Genus_species`,\n",
    "    `DBH_cm`, `HT_m`, `CR_pre`, and `CR_post`."
   ]
  },
  {
   "cell_type": "markdown",
   "id": "8f2c5ce6-eb43-4544-8b88-c306a7618c85",
   "metadata": {},
   "source": [
    "## Step 1: Check the metadata\n",
    "\n",
    "Look at the metadata and provide a description on what each variable represents in the Description column below.\n"
   ]
  },
  {
   "cell_type": "markdown",
   "id": "c7b239ac-123f-4458-bf2c-fc46dcf5cc0a",
   "metadata": {},
   "source": [
    "| Feature                     | Description                                                                                   |\n",
    "|-----------------------------|-----------------------------------------------------------------------------------------------| \n",
    "| yr1status                   |Tree status in year 1 post-fire. (0=alive, 1=dead). Counted in growing seasons − if fire occurred in spring prior to bud break, 1 year post-fire is that same year as fire. If fire occurred during growing season or fall, 1 year post-fire is the next calendar year after fire.\n",
    "| YrFireName                  |    A unique identifier for each fire event that includes the year of the fire and the fire name; YEAR - Fire                       \n",
    "| Times_burned                | The number of times this tree was burned.                                              \n",
    "| Species                     | Symbol for species. First two letters of genus and first two letters of species, sometimes followed by a number. Symbols follow those in the PLANTS National Database (http://plants.usda.gov). 2TREE = unknown tree species.                                                    \n",
    "| Genus_species               |   Genus and species of tree.                                 \n",
    "| DBH_cm                      | Diameter at breast height rounded to nearest 0.1 cm (cm = centimeters). NA = not assessed.\n",
    "| HT_m                        |Diameter at breast height rounded to nearest 0.1 cm (cm = centimeters). NA = not assessed.\n",
    "| CR_pre                      | Pre-fire live crown ratio. Crown length divided by tree height (proportion rounded to nearest 0.01). NA = not assessed.\n",
    "| CR_post                     | Post-fire live crown ratio. Crown length divided by tree height (proportion rounded to nearest 0.01). NA = not assessed."
   ]
  },
  {
   "cell_type": "markdown",
   "id": "55d355a0",
   "metadata": {},
   "source": [
    "## Step 2: Fetch  data\n",
    "Read in the data set and filter to retain only the variables of interest.  Then check for incomplete observations and remove any rows containing NaNs.  How many observations does that leave us with? **Print your answer.**"
   ]
  },
  {
   "cell_type": "code",
   "execution_count": 4,
   "id": "ac926dc2",
   "metadata": {
    "tags": []
   },
   "outputs": [
    {
     "name": "stderr",
     "output_type": "stream",
     "text": [
      "/tmp/ipykernel_1388109/1765753220.py:2: DtypeWarning: Columns (4,5,6,7,10,62,63) have mixed types. Specify dtype option on import or set low_memory=False.\n",
      "  trees_dat = pd.read_csv('/courses/EDS232/Data/FTM_trees.csv')\n"
     ]
    }
   ],
   "source": [
    "# Load the dataset\n",
    "trees_dat = pd.read_csv('/courses/EDS232/Data/FTM_trees.csv')"
   ]
  },
  {
   "cell_type": "markdown",
   "id": "aaf806bf",
   "metadata": {},
   "source": [
    "## Step 3: Data Preprocessing\n",
    "1. We recode categorical predictors to zero-based integer form because most machine learning models, including logistic regression, cannot work directly with categorical data represented as strings or labels. Instead, models require numerical input. Let's do that here. \n"
   ]
  },
  {
   "cell_type": "code",
   "execution_count": 5,
   "id": "e6f251d5-f047-4956-a6f1-2d2ac127248c",
   "metadata": {
    "tags": []
   },
   "outputs": [
    {
     "data": {
      "text/plain": [
       "<bound method DataFrame.info of               YrFireName Species   Dataset  Times_burned        ID Plot  \\\n",
       "0          2006 - Tripod   2TREE  Prichard             1       NaN  188   \n",
       "1          2006 - Tripod   2TREE  Prichard             1       NaN   74   \n",
       "2          2006 - Tripod   2TREE  Prichard             1       NaN  193   \n",
       "3          2006 - Tripod   2TREE  Prichard             1       NaN  126   \n",
       "4          2006 - Tripod   2TREE  Prichard             1       NaN  113   \n",
       "...                  ...     ...       ...           ...       ...  ...   \n",
       "169838  2011 - High Peak    VAAR  McDaniel             1  Pine-oak   52   \n",
       "169839  2011 - High Peak    VAAR  McDaniel             1    HW mix   25   \n",
       "169840  2011 - High Peak    VIRU  McDaniel             1  Pine-oak   41   \n",
       "169841  2011 - High Peak    VIRU  McDaniel             1  Pine-oak    1   \n",
       "169842  2011 - High Peak    VIRU  McDaniel             1  Pine-oak    1   \n",
       "\n",
       "       TreeNum Unit      Genus Species_name  ... IPS MPB  RPB  RTB  SB  WPB  \\\n",
       "0         15.0  NaN        NaN          NaN  ... NaN NaN  NaN  NaN NaN  NaN   \n",
       "1         20.0  NaN        NaN          NaN  ... NaN NaN  NaN  NaN NaN  NaN   \n",
       "2         22.0  NaN        NaN          NaN  ... NaN NaN  NaN  NaN NaN  NaN   \n",
       "3          6.0  NaN        NaN          NaN  ... NaN NaN  NaN  NaN NaN  NaN   \n",
       "4         11.0  NaN        NaN          NaN  ... NaN NaN  NaN  NaN NaN  NaN   \n",
       "...        ...  ...        ...          ...  ...  ..  ..  ...  ...  ..  ...   \n",
       "169838      22  NaN  Vaccinium     arboreum  ... NaN NaN  NaN  NaN NaN  NaN   \n",
       "169839      38  NaN  Vaccinium     arboreum  ... NaN NaN  NaN  NaN NaN  NaN   \n",
       "169840      40  NaN   Viburnum    rufidulum  ... NaN NaN  NaN  NaN NaN  NaN   \n",
       "169841      25  NaN   Viburnum    rufidulum  ... NaN NaN  NaN  NaN NaN  NaN   \n",
       "169842      24  NaN   Viburnum    rufidulum  ... NaN NaN  NaN  NaN NaN  NaN   \n",
       "\n",
       "        WB  SPB  CVS_percent_source  CVK_percent_source  \n",
       "0      NaN  NaN                   F                 NaN  \n",
       "1      NaN  NaN                   F                 NaN  \n",
       "2      NaN  NaN                   F                 NaN  \n",
       "3      NaN  NaN                   F                 NaN  \n",
       "4      NaN  NaN                   F                 NaN  \n",
       "...     ..  ...                 ...                 ...  \n",
       "169838 NaN  NaN                   F                 NaN  \n",
       "169839 NaN  NaN                   F                 NaN  \n",
       "169840 NaN  NaN                   F                 NaN  \n",
       "169841 NaN  NaN                   F                 NaN  \n",
       "169842 NaN  NaN                   F                 NaN  \n",
       "\n",
       "[169843 rows x 64 columns]>"
      ]
     },
     "execution_count": 5,
     "metadata": {},
     "output_type": "execute_result"
    }
   ],
   "source": [
    "trees_dat.info"
   ]
  },
  {
   "cell_type": "code",
   "execution_count": 11,
   "id": "1e41fb79-ad31-4162-ac76-887461bb4160",
   "metadata": {
    "tags": []
   },
   "outputs": [
    {
     "name": "stdout",
     "output_type": "stream",
     "text": [
      "<class 'pandas.core.frame.DataFrame'>\n",
      "Index: 36509 entries, 500 to 169336\n",
      "Data columns (total 9 columns):\n",
      " #   Column         Non-Null Count  Dtype  \n",
      "---  ------         --------------  -----  \n",
      " 0   yr1status      36509 non-null  int8   \n",
      " 1   YrFireName     36509 non-null  int8   \n",
      " 2   Times_burned   36509 non-null  int64  \n",
      " 3   Species        36509 non-null  int8   \n",
      " 4   Genus_species  36509 non-null  int8   \n",
      " 5   DBH_cm         36509 non-null  float64\n",
      " 6   HT_m           36509 non-null  float64\n",
      " 7   CR_pre         36509 non-null  float64\n",
      " 8   CR_post        36509 non-null  float64\n",
      "dtypes: float64(4), int64(1), int8(4)\n",
      "memory usage: 1.8 MB\n",
      "None\n"
     ]
    }
   ],
   "source": [
    "# Select columns\n",
    "trees_dat = trees_dat[['yr1status', 'YrFireName', 'Times_burned', 'Species', 'Genus_species', 'DBH_cm', 'HT_m', 'CR_pre', 'CR_post']].dropna()\n",
    "\n",
    "print(trees_dat.info())\n",
    "\n",
    "trees_dat.dtypes\n",
    "\n",
    "trees_dat['yr1status'] = pd.to_numeric(trees_dat['yr1status'], downcast='integer')\n",
    "\n",
    "\n",
    "trees_dat.dtypes\n",
    "\n",
    "\n",
    "for col in ['YrFireName', 'Species', 'Genus_species']:\n",
    "    trees_dat[col] = pd.Categorical(trees_dat[col]).codes"
   ]
  },
  {
   "cell_type": "markdown",
   "id": "fdcc4673-26dc-4c09-8c9a-0f2f97abe16f",
   "metadata": {},
   "source": [
    "2. Then we'll split into training and test data and scale for coefficient interpretability.  Recall that we use the training features to calculate our scaling parameters (mean and standard deviation) and apply the scaling to those training features (`scaler.fit_transform`) and then apply the scaling to the features in the test data as well (`scaler.transform`).\n"
   ]
  },
  {
   "cell_type": "code",
   "execution_count": 27,
   "id": "54b2f9d2-f414-4bf2-b0a3-51d55f3d997a",
   "metadata": {
    "tags": []
   },
   "outputs": [],
   "source": [
    "# Separate into target and features\n",
    "X = trees_dat[['YrFireName', 'Times_burned', 'Species', 'Genus_species',\n",
    "    'DBH_cm', 'HT_m', 'CR_pre', 'CR_post']]\n",
    "y = trees_dat['yr1status']\n",
    "\n",
    "# Split and train data\n",
    "X_train, X_test, y_train, y_test = train_test_split(X, y, test_size = 0.3)\n",
    "\n",
    "# Standardize the predictors\n",
    "scaler = StandardScaler()\n",
    "X_train_scaled = scaler.fit_transform(X_train)\n",
    "X_test_scaled = scaler.fit_transform(X_test)\n",
    "\n",
    "\n"
   ]
  },
  {
   "cell_type": "markdown",
   "id": "3055eca1-9c22-4266-95a0-710b43be5a8e",
   "metadata": {},
   "source": [
    "3. How many training/test observations do we have? Print your answer in the cell below. "
   ]
  },
  {
   "cell_type": "code",
   "execution_count": 32,
   "id": "fdb4803d-8680-4ede-b790-3579f4a485e7",
   "metadata": {
    "tags": []
   },
   "outputs": [
    {
     "name": "stdout",
     "output_type": "stream",
     "text": [
      "Training set observations: 204448\n",
      "Testing set observations: 87624\n"
     ]
    }
   ],
   "source": [
    "\n",
    "# Verify the training and testing set size\n",
    "print(\"Training set observations:\", X_train_scaled.size)\n",
    "print(\"Testing set observations:\", X_test_scaled.size)\n",
    "\n"
   ]
  },
  {
   "cell_type": "markdown",
   "id": "4ca8857c",
   "metadata": {},
   "source": [
    "## Step 4: Train a Logistical Model\n",
    "Create a classifier using `LogisticRegression()` and fit it on the training data.  Then assess the model's accuracy on the training set by making predictions on the training data.  Calculate and **print** the accuracy of your model on the training set. "
   ]
  },
  {
   "cell_type": "code",
   "execution_count": 35,
   "id": "578b2ca5",
   "metadata": {
    "tags": []
   },
   "outputs": [
    {
     "name": "stdout",
     "output_type": "stream",
     "text": [
      "Training Accuracy:  0.9466812745366566\n"
     ]
    }
   ],
   "source": [
    "model = LogisticRegression().fit(X_train_scaled, y_train)\n",
    "\n",
    "y_pred = model.predict(X_test_scaled)\n",
    "y_probs = model.predict_proba(X_test_scaled)[:, 1]\n",
    "\n",
    "# Compute ROC curve\n",
    "fpr, tpr, thresholds = roc_curve(y_test, y_probs)\n",
    "\n",
    "print(f\"Training Accuracy: \", accuracy_score(y_train_scaled, y_pred))\n",
    "\n"
   ]
  },
  {
   "cell_type": "markdown",
   "id": "34d86616",
   "metadata": {},
   "source": [
    "## Step 5: Test Set Predictions and Model Evaluation\n",
    "Now let's take our trained logistic classifier and make predictions on the test set. Calculate the accuracy and confusion matrix. Then use `sns.heatmap` for improved confusion matrix visualization."
   ]
  },
  {
   "cell_type": "code",
   "execution_count": 43,
   "id": "be4e4d6c",
   "metadata": {
    "tags": []
   },
   "outputs": [
    {
     "name": "stdout",
     "output_type": "stream",
     "text": [
      "Accuracy:  0.9466812745366566\n"
     ]
    },
    {
     "data": {
      "image/png": "[encoded data removed]",
      "text/plain": [
       "<Figure size 800x600 with 2 Axes>"
      ]
     },
     "metadata": {},
     "output_type": "display_data"
    },
    {
     "name": "stdout",
     "output_type": "stream",
     "text": [
      "True positives (correctly predicted presence): 445\n",
      "True negatives (correctly predicted absence): 9924\n",
      "False positives (incorrectly predicted presence): 162\n",
      "False negatives (incorrectly predicted absence): 422\n"
     ]
    },
    {
     "data": {
      "text/plain": [
       "Ellipsis"
      ]
     },
     "execution_count": 43,
     "metadata": {},
     "output_type": "execute_result"
    }
   ],
   "source": [
    "\n",
    "\n",
    "# Print evaluation metrics\n",
    "print(f\"Accuracy: \", accuracy_score(y_test, y_pred))\n",
    "\n",
    "\n",
    "#Plot confusion matrix\n",
    " # Create confusion matrix\n",
    "cm = confusion_matrix(y_test, y_pred)\n",
    "    \n",
    "    # Create confusion matrix plot\n",
    "plt.figure(figsize = (8,6))\n",
    "sns.heatmap(cm, fmt = 'd', cmap = 'GnBu',\n",
    "               xticklabels = ['Absent', 'Present'],\n",
    "               yticklabels = ['Absent', 'Present'])\n",
    "plt.title('Confusion Matrix')\n",
    "plt.ylabel('True Label') \n",
    "plt.xlabel('Predicted Label')\n",
    "plt.show()\n",
    "    \n",
    "    # Calculate and display metrics\n",
    "TP = cm[1,1]\n",
    "TN = cm[0,0]\n",
    "FP = cm[0,1]\n",
    "FN = cm[1,0]\n",
    "print(f\"True positives (correctly predicted presence): {TP}\")\n",
    "print(f\"True negatives (correctly predicted absence): {TN}\")\n",
    "print(f\"False positives (incorrectly predicted presence): {FP}\")\n",
    "print(f\"False negatives (incorrectly predicted absence): {FN}\")\n",
    "..."
   ]
  },
  {
   "cell_type": "markdown",
   "id": "9b5cdbbb",
   "metadata": {},
   "source": [
    "## Step 6: Logistic Classifier Evaluation\n",
    "How did your model perform on the unseen data? \n",
    "Does your model perform differently on observations of trees that survived vs trees that died?\n",
    "Is there a class imbalance in this data set?"
   ]
  },
  {
   "cell_type": "markdown",
   "id": "7c651ef7",
   "metadata": {},
   "source": [
    "*Your answer here*"
   ]
  },
  {
   "cell_type": "markdown",
   "id": "c60c7e36",
   "metadata": {},
   "source": [
    "## Step 7: What about a Dummy?\n",
    "What do you think would happen if we built a model that always predicts the majority class (dead trees)? How would its accuracy compare to your logistic regression model?"
   ]
  },
  {
   "cell_type": "markdown",
   "id": "e66ba576",
   "metadata": {},
   "source": [
    "*Your answer here*"
   ]
  },
  {
   "cell_type": "markdown",
   "id": "6854360d",
   "metadata": {},
   "source": [
    "Let's go ahead and do it: use `DummyClassifier()` with the appropriate value for the 'strategy' parameter to train a majority classifier.  Then calculate this model's accuracy on the training data."
   ]
  },
  {
   "cell_type": "code",
   "execution_count": null,
   "id": "fe5b4015",
   "metadata": {
    "tags": []
   },
   "outputs": [],
   "source": [
    "...\n",
    "\n",
    "# Print accuracy and confusion matrix results\n",
    "print(f\"Dummy Accuracy: \")\n",
    "print(\"\\nDummy Confusion Matrix:\")\n"
   ]
  },
  {
   "cell_type": "markdown",
   "id": "e3445d23",
   "metadata": {},
   "source": [
    "# Step 8: ROCs and AUCs\n",
    "Our two models have similar accuracy, but is that all there is to this story?  Let's dig a little deeper on the comparison of our logistic and dummy classifiers by examining the associated receiver-operator characteristic (ROC) curves. Calculate the area under the curve (AUC) for both models."
   ]
  },
  {
   "cell_type": "code",
   "execution_count": null,
   "id": "cef8515b",
   "metadata": {
    "tags": []
   },
   "outputs": [],
   "source": [
    "# Logistic classifier AUC\n",
    "...\n",
    "print(f\"Logistic AUC: \")"
   ]
  },
  {
   "cell_type": "code",
   "execution_count": null,
   "id": "5180e8b8",
   "metadata": {
    "tags": []
   },
   "outputs": [],
   "source": [
    "# Dummy classifier AUC\n",
    "...\n",
    "print(f\"Dummy AUC: \")"
   ]
  },
  {
   "cell_type": "markdown",
   "id": "4acd252f",
   "metadata": {},
   "source": [
    "# Step 9: Plot dummy and logistic model ROC curves\n",
    "Now using the outputs from `roc_curve()`, plot the ROC curves for both models on the same plot.  Make sure to use appropriate labels in the legend."
   ]
  },
  {
   "cell_type": "code",
   "execution_count": null,
   "id": "03a7fe29",
   "metadata": {
    "tags": []
   },
   "outputs": [],
   "source": []
  },
  {
   "cell_type": "markdown",
   "id": "ec104e80",
   "metadata": {},
   "source": [
    "How do the two models compare on AUC?  What are the implications for evaluating classifiers based on accuracy of their predictions?"
   ]
  },
  {
   "cell_type": "markdown",
   "id": "a4ab1a30",
   "metadata": {},
   "source": [
    "*Your answer here*"
   ]
  },
  {
   "cell_type": "markdown",
   "id": "d1767d77",
   "metadata": {},
   "source": [
    "# Step 10: Final interpretation\n",
    "\n",
    "Identifying the most important features in a model can guide decision-making. For instance, in our dataset, highly important features might indicate key factors affecting tree survival after a fire. We will calculate the feature importance by examining the coefficients of our logistic regression model."
   ]
  },
  {
   "cell_type": "code",
   "execution_count": null,
   "id": "e0a97e03",
   "metadata": {
    "tags": []
   },
   "outputs": [],
   "source": [
    "...\n",
    "\n",
    "# Print the sorted feature importance\n",
    "print(importance_df)"
   ]
  },
  {
   "cell_type": "markdown",
   "id": "55d9db5d",
   "metadata": {},
   "source": [
    "Which are the most important features in our model (reference the metadata to help answer this)? Can you think of any implications for forest management or conservation strategy?"
   ]
  },
  {
   "cell_type": "markdown",
   "id": "bd42e56c",
   "metadata": {},
   "source": [
    "*Your answer here*"
   ]
  }
 ],
 "metadata": {
  "kernelspec": {
   "display_name": "Anaconda 3 (EDS232)",
   "language": "python",
   "name": "ml-env"
  },
  "language_info": {
   "codemirror_mode": {
    "name": "ipython",
    "version": 3
   },
   "file_extension": ".py",
   "mimetype": "text/x-python",
   "name": "python",
   "nbconvert_exporter": "python",
   "pygments_lexer": "ipython3",
   "version": "3.10.16"
  }
 },
 "nbformat": 4,
 "nbformat_minor": 5
}
