{
 "cells": [
  {
   "cell_type": "markdown",
   "metadata": {},
   "source": [
    "# Lab 5: Species Distribution Modeling with Bagging \n",
    "Climate change and deforestation are accelerating ecosystem degradation, pushing animal species toward the brink of extinction. Understanding the distribution of animals and the factors that influence their ability to thrive in different environments is critical for conservation efforts. By studying these relationships, biological conservationists can develop informed strategies to protect endangered species and maintain biodiversity across diverse ecosystems.\n",
    "\n",
    "Species are defined by their behavioral, physiological, and ecological attributes, which shape their roles in ecosystems. In turn, ecosystems and their functions are deeply influenced by the species that inhabit them. This reciprocal relationship makes evaluating species' functional diversity and distributions essential for research in biogeography, community ecology, macroevolution, and conservation. Functional diversity is determined by traits such as diet, foraging strata, trophic level, activity cycle, litter size, generation length, habitat breadth, and body mass. These traits influence an animal’s ability to survive and adapt to different climates, playing a crucial role in ecosystem stability.\n",
    "\n",
    "In this lab, we will explore the connections between animal behaviors, functional traits, and species distributions across different climates."
   ]
  },
  {
   "cell_type": "code",
   "execution_count": 2,
   "metadata": {
    "tags": []
   },
   "outputs": [],
   "source": [
    "import pandas as pd\n",
    "import matplotlib.pyplot as plt\n",
    "import seaborn as sns\n",
    "import numpy as np\n",
    "from sklearn.ensemble import BaggingClassifier\n",
    "from sklearn.model_selection import train_test_split\n",
    "from sklearn.metrics import accuracy_score, roc_curve, auc\n",
    "from sklearn.preprocessing import StandardScaler, LabelEncoder\n",
    "from sklearn.inspection import permutation_importance\n",
    "from sklearn.utils import resample, shuffle"
   ]
  },
  {
   "cell_type": "markdown",
   "metadata": {},
   "source": [
    "### Step 1: Standardizing column names\n",
    "\n",
    "The dataset contains several columns that describe different aspects of bird diets. These column names currently include spaces, colons (:), and special characters, which can make them difficult to work with in code.\n",
    "\n",
    "Load the dataset (BirdTraitData.csv) into a Pandas DataFrame.\n",
    "\n",
    "The 7 column names that start with \"Diet:\" should be renamed to simpler version starting with `Diet_` in a way that conforms with this list of key variables:\n",
    "\n",
    "`AdultBodyMass`, `DietBreadth`, `Diet_Invertebrates`, `Diet_Vertebrates`,`Diet_Fruits`, `Diet_Flowers`, `Diet_Seeds`, `Diet_Plants`, `Diet_Other`, `TrophicLevel`,`ActivityCycle`, `ForagingStratum`, `MigratoryStatus`,`IncubationTime`, `ClutchSize`, `EggLength`, `EggWidth`,`EggMass`, `NestingHabit`,`MaxLongevity`, `Subarid`\n",
    "\n",
    "Then select only that list of 21 key variables. **Print the head of your dataframe.** "
   ]
  },
  {
   "cell_type": "code",
   "execution_count": 4,
   "metadata": {
    "tags": []
   },
   "outputs": [
    {
     "name": "stdout",
     "output_type": "stream",
     "text": [
      "Missing values before imputation:\n",
      " AdultBodyMass           2\n",
      "DietBreadth             3\n",
      "Diet_Invertebrates      3\n",
      "Diet_Vertebrates        3\n",
      "Diet_Fruits             3\n",
      "Diet_Flowers            3\n",
      "Diet_Seeds              3\n",
      "Diet_Plants             3\n",
      "Diet_Other              3\n",
      "TrophicLevel            3\n",
      "ActivityCycle          14\n",
      "ForagingStratum         6\n",
      "MigratoryStatus         0\n",
      "IncubationTime        100\n",
      "ClutchSize             28\n",
      "EggLength             134\n",
      "EggWidth              136\n",
      "EggMass               115\n",
      "NestingHabit           18\n",
      "MaxLongevity          172\n",
      "Subarid                 0\n",
      "dtype: int64\n"
     ]
    },
    {
     "data": {
      "text/plain": [
       "AdultBodyMass         0\n",
       "DietBreadth           0\n",
       "Diet_Invertebrates    0\n",
       "Diet_Vertebrates      0\n",
       "Diet_Fruits           0\n",
       "Diet_Flowers          0\n",
       "Diet_Seeds            0\n",
       "Diet_Plants           0\n",
       "Diet_Other            0\n",
       "TrophicLevel          0\n",
       "ActivityCycle         0\n",
       "ForagingStratum       0\n",
       "MigratoryStatus       0\n",
       "IncubationTime        0\n",
       "ClutchSize            0\n",
       "EggLength             0\n",
       "EggWidth              0\n",
       "EggMass               0\n",
       "NestingHabit          0\n",
       "MaxLongevity          0\n",
       "Subarid               0\n",
       "dtype: int64"
      ]
     },
     "execution_count": 4,
     "metadata": {},
     "output_type": "execute_result"
    }
   ],
   "source": [
    "# Read in data\n",
    "bird_traits = pd.read_csv(\"/courses/EDS232/Data/BirdTraitData.csv\", encoding = 'ISO-8859-1')\n",
    "\n",
    "# Replace -999.99 with NaN\n",
    "bird_traits.replace(-999, np.nan, inplace=True)\n",
    "\n",
    "# Check missing values before imputation\n",
    "print(\"Missing values before imputation:\\n\", bird_traits.isna().sum())\n",
    "\n",
    "# Number of NAs in each category\n",
    "bird_traits.isna().sum()\n",
    "\n",
    "# Impute by mode\n",
    "bird_traits = bird_traits.fillna(bird_traits.mode().iloc[0]) # Needs a series, iloc pulls out first element for Series\n",
    "\n",
    "# Check to make sure there are no NAs\n",
    "bird_traits.isna().sum()"
   ]
  },
  {
   "cell_type": "code",
   "execution_count": 5,
   "metadata": {
    "tags": []
   },
   "outputs": [
    {
     "name": "stdout",
     "output_type": "stream",
     "text": [
      "Index(['AdultBodyMass', 'DietBreadth', 'Diet_Invertebrates',\n",
      "       'Diet_Vertebrates', 'Diet_Fruits', 'Diet_Flowers', 'Diet_Seeds',\n",
      "       'Diet_Plants', 'Diet_Other', 'TrophicLevel', 'ActivityCycle',\n",
      "       'ForagingStratum', 'MigratoryStatus', 'IncubationTime', 'ClutchSize',\n",
      "       'EggLength', 'EggWidth', 'EggMass', 'NestingHabit', 'MaxLongevity',\n",
      "       'Subarid'],\n",
      "      dtype='object')\n"
     ]
    },
    {
     "ename": "KeyError",
     "evalue": "\"['Diet_invertebrates', 'Diet_vertebrates', 'Diet_fruits', 'Diet_flowers', 'Diet_seeds', 'Diet_plants', 'Diet_other'] not in index\"",
     "output_type": "error",
     "traceback": [
      "\u001b[0;31m---------------------------------------------------------------------------\u001b[0m",
      "\u001b[0;31mKeyError\u001b[0m                                  Traceback (most recent call last)",
      "Cell \u001b[0;32mIn[5], line 8\u001b[0m\n\u001b[1;32m      5\u001b[0m bird_traits\u001b[38;5;241m.\u001b[39mcolumns \u001b[38;5;241m=\u001b[39m [col\u001b[38;5;241m.\u001b[39mreplace(\u001b[38;5;124m\"\u001b[39m\u001b[38;5;124mscavenge; garbage; carrion; offal; carcasses\u001b[39m\u001b[38;5;124m\"\u001b[39m, \u001b[38;5;124m\"\u001b[39m\u001b[38;5;124mother\u001b[39m\u001b[38;5;124m\"\u001b[39m) \u001b[38;5;28;01mif\u001b[39;00m col\u001b[38;5;241m.\u001b[39mendswith(\u001b[38;5;124m\"\u001b[39m\u001b[38;5;124mscavenge; garbage; carrion; offal; carcasses\u001b[39m\u001b[38;5;124m\"\u001b[39m) \u001b[38;5;28;01melse\u001b[39;00m col \u001b[38;5;28;01mfor\u001b[39;00m col \u001b[38;5;129;01min\u001b[39;00m bird_traits\u001b[38;5;241m.\u001b[39mcolumns]\n\u001b[1;32m      7\u001b[0m \u001b[38;5;28mprint\u001b[39m(bird_traits\u001b[38;5;241m.\u001b[39mcolumns)\n\u001b[0;32m----> 8\u001b[0m bird_traits \u001b[38;5;241m=\u001b[39m \u001b[43mbird_traits\u001b[49m\u001b[43m[\u001b[49m\u001b[43m[\u001b[49m\u001b[38;5;124;43m'\u001b[39;49m\u001b[38;5;124;43mAdultBodyMass\u001b[39;49m\u001b[38;5;124;43m'\u001b[39;49m\u001b[43m,\u001b[49m\u001b[43m \u001b[49m\u001b[38;5;124;43m'\u001b[39;49m\u001b[38;5;124;43mDietBreadth\u001b[39;49m\u001b[38;5;124;43m'\u001b[39;49m\u001b[43m,\u001b[49m\u001b[43m \u001b[49m\u001b[38;5;124;43m'\u001b[39;49m\u001b[38;5;124;43mDiet_invertebrates\u001b[39;49m\u001b[38;5;124;43m'\u001b[39;49m\u001b[43m,\u001b[49m\u001b[43m \u001b[49m\u001b[38;5;124;43m'\u001b[39;49m\u001b[38;5;124;43mDiet_vertebrates\u001b[39;49m\u001b[38;5;124;43m'\u001b[39;49m\u001b[43m,\u001b[49m\u001b[38;5;124;43m'\u001b[39;49m\u001b[38;5;124;43mDiet_fruits\u001b[39;49m\u001b[38;5;124;43m'\u001b[39;49m\u001b[43m,\u001b[49m\u001b[43m \u001b[49m\u001b[38;5;124;43m'\u001b[39;49m\u001b[38;5;124;43mDiet_flowers\u001b[39;49m\u001b[38;5;124;43m'\u001b[39;49m\u001b[43m,\u001b[49m\u001b[43m \u001b[49m\u001b[38;5;124;43m'\u001b[39;49m\u001b[38;5;124;43mDiet_seeds\u001b[39;49m\u001b[38;5;124;43m'\u001b[39;49m\u001b[43m,\u001b[49m\u001b[43m \u001b[49m\u001b[38;5;124;43m'\u001b[39;49m\u001b[38;5;124;43mDiet_plants\u001b[39;49m\u001b[38;5;124;43m'\u001b[39;49m\u001b[43m,\u001b[49m\u001b[43m \u001b[49m\u001b[38;5;124;43m'\u001b[39;49m\u001b[38;5;124;43mDiet_other\u001b[39;49m\u001b[38;5;124;43m'\u001b[39;49m\u001b[43m,\u001b[49m\u001b[43m \u001b[49m\u001b[38;5;124;43m'\u001b[39;49m\u001b[38;5;124;43mTrophicLevel\u001b[39;49m\u001b[38;5;124;43m'\u001b[39;49m\u001b[43m,\u001b[49m\u001b[38;5;124;43m'\u001b[39;49m\u001b[38;5;124;43mActivityCycle\u001b[39;49m\u001b[38;5;124;43m'\u001b[39;49m\u001b[43m,\u001b[49m\u001b[43m \u001b[49m\u001b[38;5;124;43m'\u001b[39;49m\u001b[38;5;124;43mForagingStratum\u001b[39;49m\u001b[38;5;124;43m'\u001b[39;49m\u001b[43m,\u001b[49m\u001b[43m \u001b[49m\u001b[38;5;124;43m'\u001b[39;49m\u001b[38;5;124;43mMigratoryStatus\u001b[39;49m\u001b[38;5;124;43m'\u001b[39;49m\u001b[43m,\u001b[49m\u001b[38;5;124;43m'\u001b[39;49m\u001b[38;5;124;43mIncubationTime\u001b[39;49m\u001b[38;5;124;43m'\u001b[39;49m\u001b[43m,\u001b[49m\u001b[43m \u001b[49m\u001b[38;5;124;43m'\u001b[39;49m\u001b[38;5;124;43mClutchSize\u001b[39;49m\u001b[38;5;124;43m'\u001b[39;49m\u001b[43m,\u001b[49m\u001b[43m \u001b[49m\u001b[38;5;124;43m'\u001b[39;49m\u001b[38;5;124;43mEggLength\u001b[39;49m\u001b[38;5;124;43m'\u001b[39;49m\u001b[43m,\u001b[49m\u001b[43m \u001b[49m\u001b[38;5;124;43m'\u001b[39;49m\u001b[38;5;124;43mEggWidth\u001b[39;49m\u001b[38;5;124;43m'\u001b[39;49m\u001b[43m,\u001b[49m\u001b[38;5;124;43m'\u001b[39;49m\u001b[38;5;124;43mEggMass\u001b[39;49m\u001b[38;5;124;43m'\u001b[39;49m\u001b[43m,\u001b[49m\u001b[43m \u001b[49m\u001b[38;5;124;43m'\u001b[39;49m\u001b[38;5;124;43mNestingHabit\u001b[39;49m\u001b[38;5;124;43m'\u001b[39;49m\u001b[43m,\u001b[49m\u001b[38;5;124;43m'\u001b[39;49m\u001b[38;5;124;43mMaxLongevity\u001b[39;49m\u001b[38;5;124;43m'\u001b[39;49m\u001b[43m,\u001b[49m\u001b[43m \u001b[49m\u001b[38;5;124;43m'\u001b[39;49m\u001b[38;5;124;43mSubarid\u001b[39;49m\u001b[38;5;124;43m'\u001b[39;49m\u001b[43m]\u001b[49m\u001b[43m]\u001b[49m\n\u001b[1;32m     11\u001b[0m bird_traits\u001b[38;5;241m.\u001b[39mshape\n",
      "File \u001b[0;32m/opt/anaconda3/envs/ml-env/lib/python3.10/site-packages/pandas/core/frame.py:3899\u001b[0m, in \u001b[0;36mDataFrame.__getitem__\u001b[0;34m(self, key)\u001b[0m\n\u001b[1;32m   3897\u001b[0m     \u001b[38;5;28;01mif\u001b[39;00m is_iterator(key):\n\u001b[1;32m   3898\u001b[0m         key \u001b[38;5;241m=\u001b[39m \u001b[38;5;28mlist\u001b[39m(key)\n\u001b[0;32m-> 3899\u001b[0m     indexer \u001b[38;5;241m=\u001b[39m \u001b[38;5;28;43mself\u001b[39;49m\u001b[38;5;241;43m.\u001b[39;49m\u001b[43mcolumns\u001b[49m\u001b[38;5;241;43m.\u001b[39;49m\u001b[43m_get_indexer_strict\u001b[49m\u001b[43m(\u001b[49m\u001b[43mkey\u001b[49m\u001b[43m,\u001b[49m\u001b[43m \u001b[49m\u001b[38;5;124;43m\"\u001b[39;49m\u001b[38;5;124;43mcolumns\u001b[39;49m\u001b[38;5;124;43m\"\u001b[39;49m\u001b[43m)\u001b[49m[\u001b[38;5;241m1\u001b[39m]\n\u001b[1;32m   3901\u001b[0m \u001b[38;5;66;03m# take() does not accept boolean indexers\u001b[39;00m\n\u001b[1;32m   3902\u001b[0m \u001b[38;5;28;01mif\u001b[39;00m \u001b[38;5;28mgetattr\u001b[39m(indexer, \u001b[38;5;124m\"\u001b[39m\u001b[38;5;124mdtype\u001b[39m\u001b[38;5;124m\"\u001b[39m, \u001b[38;5;28;01mNone\u001b[39;00m) \u001b[38;5;241m==\u001b[39m \u001b[38;5;28mbool\u001b[39m:\n",
      "File \u001b[0;32m/opt/anaconda3/envs/ml-env/lib/python3.10/site-packages/pandas/core/indexes/base.py:6115\u001b[0m, in \u001b[0;36mIndex._get_indexer_strict\u001b[0;34m(self, key, axis_name)\u001b[0m\n\u001b[1;32m   6112\u001b[0m \u001b[38;5;28;01melse\u001b[39;00m:\n\u001b[1;32m   6113\u001b[0m     keyarr, indexer, new_indexer \u001b[38;5;241m=\u001b[39m \u001b[38;5;28mself\u001b[39m\u001b[38;5;241m.\u001b[39m_reindex_non_unique(keyarr)\n\u001b[0;32m-> 6115\u001b[0m \u001b[38;5;28;43mself\u001b[39;49m\u001b[38;5;241;43m.\u001b[39;49m\u001b[43m_raise_if_missing\u001b[49m\u001b[43m(\u001b[49m\u001b[43mkeyarr\u001b[49m\u001b[43m,\u001b[49m\u001b[43m \u001b[49m\u001b[43mindexer\u001b[49m\u001b[43m,\u001b[49m\u001b[43m \u001b[49m\u001b[43maxis_name\u001b[49m\u001b[43m)\u001b[49m\n\u001b[1;32m   6117\u001b[0m keyarr \u001b[38;5;241m=\u001b[39m \u001b[38;5;28mself\u001b[39m\u001b[38;5;241m.\u001b[39mtake(indexer)\n\u001b[1;32m   6118\u001b[0m \u001b[38;5;28;01mif\u001b[39;00m \u001b[38;5;28misinstance\u001b[39m(key, Index):\n\u001b[1;32m   6119\u001b[0m     \u001b[38;5;66;03m# GH 42790 - Preserve name from an Index\u001b[39;00m\n",
      "File \u001b[0;32m/opt/anaconda3/envs/ml-env/lib/python3.10/site-packages/pandas/core/indexes/base.py:6179\u001b[0m, in \u001b[0;36mIndex._raise_if_missing\u001b[0;34m(self, key, indexer, axis_name)\u001b[0m\n\u001b[1;32m   6176\u001b[0m     \u001b[38;5;28;01mraise\u001b[39;00m \u001b[38;5;167;01mKeyError\u001b[39;00m(\u001b[38;5;124mf\u001b[39m\u001b[38;5;124m\"\u001b[39m\u001b[38;5;124mNone of [\u001b[39m\u001b[38;5;132;01m{\u001b[39;00mkey\u001b[38;5;132;01m}\u001b[39;00m\u001b[38;5;124m] are in the [\u001b[39m\u001b[38;5;132;01m{\u001b[39;00maxis_name\u001b[38;5;132;01m}\u001b[39;00m\u001b[38;5;124m]\u001b[39m\u001b[38;5;124m\"\u001b[39m)\n\u001b[1;32m   6178\u001b[0m not_found \u001b[38;5;241m=\u001b[39m \u001b[38;5;28mlist\u001b[39m(ensure_index(key)[missing_mask\u001b[38;5;241m.\u001b[39mnonzero()[\u001b[38;5;241m0\u001b[39m]]\u001b[38;5;241m.\u001b[39munique())\n\u001b[0;32m-> 6179\u001b[0m \u001b[38;5;28;01mraise\u001b[39;00m \u001b[38;5;167;01mKeyError\u001b[39;00m(\u001b[38;5;124mf\u001b[39m\u001b[38;5;124m\"\u001b[39m\u001b[38;5;132;01m{\u001b[39;00mnot_found\u001b[38;5;132;01m}\u001b[39;00m\u001b[38;5;124m not in index\u001b[39m\u001b[38;5;124m\"\u001b[39m)\n",
      "\u001b[0;31mKeyError\u001b[0m: \"['Diet_invertebrates', 'Diet_vertebrates', 'Diet_fruits', 'Diet_flowers', 'Diet_seeds', 'Diet_plants', 'Diet_other'] not in index\""
     ]
    }
   ],
   "source": [
    "# Select list of 21 key variables\n",
    "bird_traits.columns = [col.replace(\"Diet: \", \"Diet_\") if col.startswith(\"Diet: \") else col for col in bird_traits.columns]\n",
    "bird_traits.columns = [col.replace(\"flower/nectar/pollen/gums\", \"flowers\") if col.endswith(\"flower/nectar/pollen/gums\") else col for col in bird_traits.columns]\n",
    "bird_traits.columns = [col.replace(\"other plant materials\", \"plants\") if col.endswith(\"other plant materials\") else col for col in bird_traits.columns]\n",
    "bird_traits.columns = [col.replace(\"scavenge; garbage; carrion; offal; carcasses\", \"other\") if col.endswith(\"scavenge; garbage; carrion; offal; carcasses\") else col for col in bird_traits.columns]\n",
    "\n",
    "print(bird_traits.columns)\n",
    "bird_traits = bird_traits[['AdultBodyMass', 'DietBreadth', 'Diet_invertebrates', 'Diet_vertebrates','Diet_fruits', 'Diet_flowers', 'Diet_seeds', 'Diet_plants', 'Diet_other', 'TrophicLevel','ActivityCycle', 'ForagingStratum', 'MigratoryStatus','IncubationTime', 'ClutchSize', 'EggLength', 'EggWidth','EggMass', 'NestingHabit','MaxLongevity', 'Subarid']]\n",
    "\n",
    "\n",
    "bird_traits.shape\n"
   ]
  },
  {
   "cell_type": "markdown",
   "metadata": {},
   "source": [
    "### Step 2: Encode categorical variables\n",
    "In our dataset, some columns contain categorical (non-numeric) data, such as species names or habitat types that need to be converted to numerical representations. Let's use label encoding to assign a unique number to each category in a column.\n",
    "\n",
    "Encode the data using this process:\n",
    "1. Find all categorical columns in df using `.select_dtypes(include=['object'])`\n",
    "2. Loop through each categorical column and apply `LabelEncoder()`\n",
    "3. Replace the original categorical columns with their encoded values.\n",
    "4. Print the head of your dataframe to ensure that labels were in fact encoded. "
   ]
  },
  {
   "cell_type": "code",
   "execution_count": 6,
   "metadata": {
    "tags": []
   },
   "outputs": [
    {
     "name": "stdout",
     "output_type": "stream",
     "text": [
      "   AdultBodyMass  DietBreadth  Diet_Invertebrates  Diet_Vertebrates  \\\n",
      "0          138.5          2.0                   1                 1   \n",
      "1         1050.0          1.0                   0                 1   \n",
      "2          181.0          2.0                   1                 1   \n",
      "3          292.0          2.0                   1                 1   \n",
      "4          511.0          2.0                   1                 1   \n",
      "\n",
      "   Diet_Fruits  Diet_Flowers  Diet_Seeds  Diet_Plants  Diet_Other  \\\n",
      "0            0             0           0            0           0   \n",
      "1            0             0           0            0           0   \n",
      "2            0             0           0            0           0   \n",
      "3            0             0           0            0           0   \n",
      "4            0             0           0            0           0   \n",
      "\n",
      "   TrophicLevel  ...  ForagingStratum  MigratoryStatus  IncubationTime  \\\n",
      "0           3.0  ...              3.0                0            31.0   \n",
      "1           3.0  ...              3.0                0            39.5   \n",
      "2           3.0  ...              3.0                0            35.0   \n",
      "3           3.0  ...              3.0                0            31.0   \n",
      "4           3.0  ...              4.0                0            35.5   \n",
      "\n",
      "   ClutchSize  EggLength  EggWidth  EggMass  NestingHabit  MaxLongevity  \\\n",
      "0         3.0       3.85     40.00     13.5             1         134.4   \n",
      "1         2.5      58.50     46.95     13.5             1         134.4   \n",
      "2         2.5      38.35     31.90     13.5             1         134.4   \n",
      "3         1.5      43.70     35.20     29.1             1         134.4   \n",
      "4         2.0      54.50     45.00     13.5             1         144.0   \n",
      "\n",
      "   Subarid  \n",
      "0        1  \n",
      "1        1  \n",
      "2        1  \n",
      "3        1  \n",
      "4        1  \n",
      "\n",
      "[5 rows x 21 columns]\n"
     ]
    }
   ],
   "source": [
    "bird_traits.select_dtypes(include=['object'])\n",
    "\n",
    "# Initialize for loop to loop through string and encode \n",
    "for col in bird_traits.select_dtypes(include=['object']):\n",
    "    label_encoded = LabelEncoder()\n",
    "    bird_traits[col] = label_encoded.fit_transform(bird_traits[col])\n",
    "    \n",
    "print(bird_traits.head())"
   ]
  },
  {
   "cell_type": "markdown",
   "metadata": {},
   "source": [
    "### Step 3: Defining features, splitting data, and training a bagging classifier\n",
    "Our goal for this analysis is to predict whether a given bird species is present in Subarid climate zones. \n",
    "\n",
    "1. Drop the corresponding variable from the features (X) and define it as the target (y). Then perform the train-test split with 70/30 train/test and a random state of 808.\n",
    "\n",
    "2. Initialize a bagging classifier with 100 trees, `oob_score =True`, `bootstrap = True` and `random_state = 808`.  \n",
    "\n",
    "3. Train the model."
   ]
  },
  {
   "cell_type": "code",
   "execution_count": 8,
   "metadata": {
    "tags": []
   },
   "outputs": [],
   "source": [
    "# Initialize Subarid as the target\n",
    "y = bird_traits['Subarid']\n",
    "# Drop subarid from the df and assign to the target\n",
    "X = bird_traits.drop(['Subarid'], axis = 1)\n",
    "\n",
    "# Split training and testing data\n",
    "X_train, X_test, y_train, y_test = train_test_split(X, y, test_size = .3, random_state = 808)\n",
    "\n",
    "# Initialize bagging classifier\n",
    "bagging = BaggingClassifier(n_estimators=100, \n",
    "                            oob_score=True, \n",
    "                            bootstrap=True, \n",
    "                            random_state=808)\n",
    "\n",
    "# Train model\n",
    "model = bagging.fit(X_train, y_train)"
   ]
  },
  {
   "cell_type": "markdown",
   "metadata": {},
   "source": [
    "### Step 4: Make predictions and evaluate the model\n",
    "\n",
    "1. Generate predictions\n",
    "- Use the trained bagging model to predict values for the test set (`X_test`).\n",
    "\n",
    "2. Calculate the Out-of-Bag (OOB) Score\n",
    "- The OOB score is an internal validation score computed using samples not included in bootstrapped subsets.\n",
    "\n",
    "3. Compute model accuracy\n",
    "- Print the OOB score and the bagging accuracy score."
   ]
  },
  {
   "cell_type": "code",
   "execution_count": 9,
   "metadata": {
    "tags": []
   },
   "outputs": [
    {
     "name": "stdout",
     "output_type": "stream",
     "text": [
      "Out of Bag Performance: 0.8579881656804734\n",
      "Accuracy score: 0.9315068493150684\n"
     ]
    }
   ],
   "source": [
    "# Generate predictions\n",
    "y_pred = model.predict(X_test)\n",
    "\n",
    "# Calculate out of bag score\n",
    "oob_score = model.oob_score_\n",
    "\n",
    "# Compute model accuracy\n",
    "accuracy = accuracy_score(y_test, y_pred)\n",
    "\n",
    "# Print oob and accuracy scores\n",
    "print(f\"Out of Bag Performance: {oob_score}\")\n",
    "print(f\"Accuracy score: {accuracy}\")"
   ]
  },
  {
   "cell_type": "markdown",
   "metadata": {},
   "source": [
    "### Step 5: Calculate and plot ROC curve\n",
    "\n",
    "- Use `label=f\"Bagging (AUC = {roc_auc_bagging:.2f})\"` to include the AUC value in the plot."
   ]
  },
  {
   "cell_type": "code",
   "execution_count": 10,
   "metadata": {
    "tags": []
   },
   "outputs": [
    {
     "data": {
      "image/png": "[encoded data removed]",
      "text/plain": [
       "<Figure size 800x600 with 1 Axes>"
      ]
     },
     "metadata": {},
     "output_type": "display_data"
    },
    {
     "name": "stdout",
     "output_type": "stream",
     "text": [
      "0.6393034825870647\n"
     ]
    }
   ],
   "source": [
    "# Get the probability for our ROC curve\n",
    "y_probs = model.predict_proba(X_test)[:, 1]\n",
    "\n",
    "# Compute ROC curve\n",
    "fpr, tpr, _ = roc_curve(y_test, y_probs)\n",
    "\n",
    "# Compute AUC\n",
    "roc_auc_bagging = auc(fpr,tpr)\n",
    "\n",
    "\n",
    "# Plot curves\n",
    "plt.figure(figsize=(8,6))\n",
    "\n",
    "# Bagging ROC Curve\n",
    "plt.plot(fpr, tpr, color='orange', lw=2, label=f'Bagging ROC Curve (AUC = {roc_auc_bagging:.3f})')\n",
    "\n",
    "\n",
    "plt.title('Bagging ROC Curve')\n",
    "plt.ylabel('True Positive Rate')\n",
    "plt.xlabel('False Positive Rate')\n",
    "plt.legend()\n",
    "plt.show()\n",
    "\n",
    "print(roc_auc_bagging)"
   ]
  },
  {
   "cell_type": "markdown",
   "metadata": {},
   "source": [
    "Now how does the ROC curve look? How does this compare to our classification accuracy metric?  What might be going on? "
   ]
  },
  {
   "cell_type": "markdown",
   "metadata": {},
   "source": [
    "The ROC Curve does not look like it is performing optimally, with an upward stepwise trend. The classification accuracy performance was high at a value of 0.869 for the out of bag performance and .945 for the accuracy score. The AUC is .756, comparatively. The difference in scores could be due to a class imbalance and perhaps a poor distribution of predicted scores as a result."
   ]
  },
  {
   "cell_type": "markdown",
   "metadata": {},
   "source": [
    "### Step 6: Introducing upsampling\n",
    "\n",
    "The ROC curve indicates that our model is not performing well.  This is a common issue in imbalanced datasets, where one class significantly outnumbers the other. To improve our model’s ability to correctly classify both groups, we will upsample the minority class so that both classes have equal representation in the training set.\n",
    "\n",
    "**Perform upsampling to balance the dataset**\n",
    "1. Separate the majority and minority classes:\n",
    "- Identify which class (0,1) is underrepresented (the minority class) and which is overrepresented (the majority class). \n",
    "- Separate both the `X_train` data and `y_train` data into all majority class and all minority class sets. \n",
    "2. Apply upsampling:\n",
    "- Use `resample()` to create additional synthetic samples of the minority class *with replacement* until it is the same size as the majority class data. Use a random state of 808. \n",
    "3. Combine the balanced classes:\n",
    "Merge the original majority class with the newly upsampled minority class.\n",
    "4. Shuffle the resampled dataset:\n",
    "- Randomly shuffle the data to ensure the model does not learn any unintended patterns from the order of the data. Use a random state of 808 for shuffling both the resampled X and y training data. \n",
    "5. Print the value counts for the resampled y training data to ensure that the data is balanced. \n"
   ]
  },
  {
   "cell_type": "code",
   "execution_count": 11,
   "metadata": {
    "tags": []
   },
   "outputs": [
    {
     "name": "stdout",
     "output_type": "stream",
     "text": [
      "<bound method DataFrame.value_counts of      AdultBodyMass  DietBreadth  Diet_Invertebrates  Diet_Vertebrates  \\\n",
      "17          2610.0          3.0                   1                 0   \n",
      "51            42.5          2.0                   1                 1   \n",
      "152           20.0          1.0                   1                 0   \n",
      "79            79.0          1.0                   1                 0   \n",
      "95           293.0          3.0                   1                 0   \n",
      "..             ...          ...                 ...               ...   \n",
      "110          180.0          2.0                   1                 1   \n",
      "104          174.0          2.0                   1                 1   \n",
      "14           685.0          2.0                   1                 0   \n",
      "238         1362.0          3.0                   1                 1   \n",
      "228          246.0          4.0                   0                 0   \n",
      "\n",
      "     Diet_Fruits  Diet_Flowers  Diet_Seeds  Diet_Plants  Diet_Other  \\\n",
      "17             0             0           1            1           0   \n",
      "51             0             0           0            0           0   \n",
      "152            0             0           0            0           0   \n",
      "79             0             0           0            0           0   \n",
      "95             1             0           1            0           0   \n",
      "..           ...           ...         ...          ...         ...   \n",
      "110            0             0           0            0           0   \n",
      "104            0             0           0            0           0   \n",
      "14             0             0           1            0           0   \n",
      "238            0             0           0            0           1   \n",
      "228            1             1           1            1           0   \n",
      "\n",
      "     TrophicLevel  ActivityCycle  ForagingStratum  MigratoryStatus  \\\n",
      "17            2.0            3.0              1.0                1   \n",
      "51            3.0            3.0              1.0                1   \n",
      "152           3.0            3.0              1.0                0   \n",
      "79            3.0            3.0              1.0                0   \n",
      "95            2.0            3.0              1.0                0   \n",
      "..            ...            ...              ...              ...   \n",
      "110           3.0            3.0              1.0                0   \n",
      "104           3.0            3.0              4.0                0   \n",
      "14            2.0            3.0              1.0                0   \n",
      "238           2.0            3.0              1.0                0   \n",
      "228           1.0            3.0              3.0                0   \n",
      "\n",
      "     IncubationTime  ClutchSize  EggLength  EggWidth  EggMass  NestingHabit  \\\n",
      "17            29.00         8.0      62.00     42.55    51.00             1   \n",
      "51            21.25         2.0      38.60     40.00    10.00             5   \n",
      "152           24.00         2.0      38.60     40.00    13.50             5   \n",
      "79            24.00         2.0      38.60     40.00    13.50             5   \n",
      "95            24.00         2.0      38.60     40.00    13.50             1   \n",
      "..              ...         ...        ...       ...      ...           ...   \n",
      "110           24.00         2.0      38.60     40.00    13.50             1   \n",
      "104           29.00         2.0      40.55     32.40    25.25             1   \n",
      "14            27.00         8.0      55.00     40.00    13.50             5   \n",
      "238           55.50         1.0      70.00     48.25    74.00             1   \n",
      "228           18.00         3.5      38.60     30.50    13.50             1   \n",
      "\n",
      "     MaxLongevity  \n",
      "17          134.4  \n",
      "51          287.0  \n",
      "152         134.4  \n",
      "79          134.4  \n",
      "95          134.4  \n",
      "..            ...  \n",
      "110         134.4  \n",
      "104         134.4  \n",
      "14          134.4  \n",
      "238         516.0  \n",
      "228         409.2  \n",
      "\n",
      "[300 rows x 20 columns]>\n",
      "<bound method IndexOpsMixin.value_counts of 17     1\n",
      "51     1\n",
      "152    1\n",
      "79     0\n",
      "95     0\n",
      "      ..\n",
      "110    0\n",
      "104    1\n",
      "14     0\n",
      "238    1\n",
      "228    1\n",
      "Name: Subarid, Length: 300, dtype: int64>\n"
     ]
    }
   ],
   "source": [
    "# Combine X_train and y_train into a single DataFrame for easy manipulation\n",
    "df_train = pd.concat([X_train, y_train], axis=1)\n",
    "\n",
    "# Separate majority and minority classes\n",
    "df_majority = df_train[df_train['Subarid'] == 1]\n",
    "df_minority = df_train[df_train['Subarid'] == 0]\n",
    "\n",
    "X_train_majority = X_train[y_train == 1]\n",
    "X_train_minority = X_train[y_train == 0]\n",
    "y_train_majority = y_train[y_train == 1]\n",
    "y_train_minority = y_train[y_train == 0]\n",
    "\n",
    "\n",
    "# Upsample the minority class\n",
    "X_train_upsampled_minority = resample(X_train_minority, \n",
    "                                 replace=True,  # Sample with replacement\n",
    "                                 n_samples=len(df_majority),  # Match majority class count\n",
    "                                 random_state=808)\n",
    "y_train_upsampled_minority = resample(y_train_minority, \n",
    "                                 replace=True,  # Sample with replacement\n",
    "                                 n_samples=len(df_majority),  # Match majority class count\n",
    "                                 random_state=808)\n",
    "\n",
    "# Combine majority and upsampled minority class\n",
    "X_train_upsampled = pd.concat([X_train_upsampled_minority, X_train_majority])\n",
    "y_train_upsampled = pd.concat([y_train_upsampled_minority, y_train_majority])\n",
    "\n",
    "# Shuffle the dataset\n",
    "X_train_upsampled = shuffle(X_train_upsampled, random_state = 808)\n",
    "y_train_upsampled = shuffle(y_train_upsampled, random_state = 808)\n",
    "\n",
    "\n",
    "# Print value counts \n",
    "print(X_train_upsampled.value_counts)\n",
    "print(y_train_upsampled.value_counts)"
   ]
  },
  {
   "cell_type": "markdown",
   "metadata": {},
   "source": [
    "### Step 7: Retrain and evaluate model using balanced data\n",
    "\n",
    "Now that we have addressed the class imbalance by upsampling the minority class, we will retrain the bagging classifier on the newly balanced dataset and evaluate its performance. This will help us determine whether handling class imbalance improves model accuracy and its ability to distinguish between classes. Create a bagging model using your balanced data. Use a random state of 808. Print the accuracy and and ROC Curve for this new model with balanced data. "
   ]
  },
  {
   "cell_type": "code",
   "execution_count": 12,
   "metadata": {
    "tags": []
   },
   "outputs": [
    {
     "name": "stdout",
     "output_type": "stream",
     "text": [
      "Model Accuracy: 0.863\n"
     ]
    },
    {
     "data": {
      "image/png": "[encoded data removed]",
      "text/plain": [
       "<Figure size 800x600 with 1 Axes>"
      ]
     },
     "metadata": {},
     "output_type": "display_data"
    },
    {
     "name": "stdout",
     "output_type": "stream",
     "text": [
      "0.6828358208955224\n"
     ]
    }
   ],
   "source": [
    "# Bagging Classifier\n",
    "bagging_clf = BaggingClassifier(random_state=808,\n",
    "                                n_estimators=100, \n",
    "                                oob_score=True,  \n",
    "                                bootstrap=True)\n",
    "\n",
    "# Train model\n",
    "bagging_clf.fit(X_train_upsampled, y_train_upsampled)\n",
    "\n",
    "# Predict probabilities\n",
    "y_pred = bagging_clf.predict(X_test)\n",
    "y_prob = bagging_clf.predict_proba(X_test)[:, 1] \n",
    "\n",
    "# accuracy\n",
    "accuracy = accuracy_score(y_test, y_pred)\n",
    "print(f\"Model Accuracy: {accuracy:.3f}\")\n",
    "\n",
    "# ROC curve and AUC\n",
    "fpr2, tpr2, _ = roc_curve(y_test, y_prob)\n",
    "roc_auc_balanced = auc(fpr2, tpr2)\n",
    "\n",
    "# Plot curves\n",
    "plt.figure(figsize=(8,6))\n",
    "\n",
    "# Bagging ROC Curve\n",
    "plt.plot(fpr2, tpr2, color='orange', lw=2, label=f'Bagging ROC Curve (AUC = {roc_auc_balanced:.3f})')\n",
    "\n",
    "\n",
    "plt.title('Balanced ROC Curve')\n",
    "plt.ylabel('True Positive Rate')\n",
    "plt.xlabel('False Positive Rate')\n",
    "plt.legend()\n",
    "plt.show()\n",
    "\n",
    "\n",
    "print(roc_auc_balanced)"
   ]
  },
  {
   "cell_type": "code",
   "execution_count": 13,
   "metadata": {
    "tags": []
   },
   "outputs": [
    {
     "name": "stdout",
     "output_type": "stream",
     "text": [
      "Original AUC: 0.64\n",
      "Balanced AUC: 0.68\n",
      "Subarid\n",
      "1    0.917808\n",
      "0    0.082192\n",
      "Name: proportion, dtype: float64\n"
     ]
    }
   ],
   "source": [
    "print(f\"Original AUC: {roc_auc_bagging:.2f}\")\n",
    "print(f\"Balanced AUC: {roc_auc_balanced:.2f}\")\n",
    "print(y_test.value_counts(normalize=True))  # Look at class distribution"
   ]
  },
  {
   "cell_type": "markdown",
   "metadata": {},
   "source": [
    "How did this second model, trained on balanced data, do in comparison to the first on the accuracy and AUC metrics.  How should we interpret those results?  Did the upscaling prove useful?"
   ]
  },
  {
   "cell_type": "markdown",
   "metadata": {},
   "source": [
    "The second model changed slightly, with the balanced AUC improving slightly and the accuracy score also improving in comparison to the initial model. More specifically, the AUC of the initial model was .639 with an accuracy score of 0.93, and the balanced model had an AUC of 0.68 with an accuracy score of .86. The model improved better with the upsampled and balanced data, which means that the balanced data performs better on the minority class. This model is more balanced and reduces the class imbalance."
   ]
  },
  {
   "cell_type": "markdown",
   "metadata": {},
   "source": [
    "### Step 8: Analyzing feature importance with permutation importance\n",
    "\n",
    "Understanding which bird traits contribute the most to our model’s predictions is crucial for interpreting results. We covered in lecture how the results of ensemble methods are harder to interpret than a single decision tree.  But we do have some tools to do it.  In this step, we will compute permutation importance, which measures the impact of each trait by shuffling its values and observing the effect on model performance. This will help us identify which functional traits—such as diet, body mass, or habitat breadth—play the biggest role in predicting whether a species is found in a subarid environment.\n",
    "\n",
    "Use `permutation_importance()` to calculate the importance values.  You'll need to pass it the model, the feature and target test data, and an n_repeats value of 10."
   ]
  },
  {
   "cell_type": "code",
   "execution_count": 14,
   "metadata": {
    "tags": []
   },
   "outputs": [
    {
     "data": {
      "text/html": [
       "<div>\n",
       "<style scoped>\n",
       "    .dataframe tbody tr th:only-of-type {\n",
       "        vertical-align: middle;\n",
       "    }\n",
       "\n",
       "    .dataframe tbody tr th {\n",
       "        vertical-align: top;\n",
       "    }\n",
       "\n",
       "    .dataframe thead th {\n",
       "        text-align: right;\n",
       "    }\n",
       "</style>\n",
       "<table border=\"1\" class=\"dataframe\">\n",
       "  <thead>\n",
       "    <tr style=\"text-align: right;\">\n",
       "      <th></th>\n",
       "      <th>feature</th>\n",
       "      <th>importance</th>\n",
       "    </tr>\n",
       "  </thead>\n",
       "  <tbody>\n",
       "    <tr>\n",
       "      <th>12</th>\n",
       "      <td>MigratoryStatus</td>\n",
       "      <td>2.328767e-02</td>\n",
       "    </tr>\n",
       "    <tr>\n",
       "      <th>7</th>\n",
       "      <td>Diet_Plants</td>\n",
       "      <td>2.191781e-02</td>\n",
       "    </tr>\n",
       "    <tr>\n",
       "      <th>13</th>\n",
       "      <td>IncubationTime</td>\n",
       "      <td>1.506849e-02</td>\n",
       "    </tr>\n",
       "    <tr>\n",
       "      <th>11</th>\n",
       "      <td>ForagingStratum</td>\n",
       "      <td>1.506849e-02</td>\n",
       "    </tr>\n",
       "    <tr>\n",
       "      <th>15</th>\n",
       "      <td>EggLength</td>\n",
       "      <td>1.369863e-02</td>\n",
       "    </tr>\n",
       "    <tr>\n",
       "      <th>16</th>\n",
       "      <td>EggWidth</td>\n",
       "      <td>1.369863e-02</td>\n",
       "    </tr>\n",
       "    <tr>\n",
       "      <th>4</th>\n",
       "      <td>Diet_Fruits</td>\n",
       "      <td>1.232877e-02</td>\n",
       "    </tr>\n",
       "    <tr>\n",
       "      <th>0</th>\n",
       "      <td>AdultBodyMass</td>\n",
       "      <td>1.095890e-02</td>\n",
       "    </tr>\n",
       "    <tr>\n",
       "      <th>19</th>\n",
       "      <td>MaxLongevity</td>\n",
       "      <td>9.589041e-03</td>\n",
       "    </tr>\n",
       "    <tr>\n",
       "      <th>9</th>\n",
       "      <td>TrophicLevel</td>\n",
       "      <td>8.219178e-03</td>\n",
       "    </tr>\n",
       "    <tr>\n",
       "      <th>1</th>\n",
       "      <td>DietBreadth</td>\n",
       "      <td>6.849315e-03</td>\n",
       "    </tr>\n",
       "    <tr>\n",
       "      <th>18</th>\n",
       "      <td>NestingHabit</td>\n",
       "      <td>6.849315e-03</td>\n",
       "    </tr>\n",
       "    <tr>\n",
       "      <th>10</th>\n",
       "      <td>ActivityCycle</td>\n",
       "      <td>6.849315e-03</td>\n",
       "    </tr>\n",
       "    <tr>\n",
       "      <th>14</th>\n",
       "      <td>ClutchSize</td>\n",
       "      <td>5.479452e-03</td>\n",
       "    </tr>\n",
       "    <tr>\n",
       "      <th>3</th>\n",
       "      <td>Diet_Vertebrates</td>\n",
       "      <td>5.479452e-03</td>\n",
       "    </tr>\n",
       "    <tr>\n",
       "      <th>2</th>\n",
       "      <td>Diet_Invertebrates</td>\n",
       "      <td>2.739726e-03</td>\n",
       "    </tr>\n",
       "    <tr>\n",
       "      <th>17</th>\n",
       "      <td>EggMass</td>\n",
       "      <td>1.369863e-03</td>\n",
       "    </tr>\n",
       "    <tr>\n",
       "      <th>8</th>\n",
       "      <td>Diet_Other</td>\n",
       "      <td>1.110223e-17</td>\n",
       "    </tr>\n",
       "    <tr>\n",
       "      <th>5</th>\n",
       "      <td>Diet_Flowers</td>\n",
       "      <td>0.000000e+00</td>\n",
       "    </tr>\n",
       "    <tr>\n",
       "      <th>6</th>\n",
       "      <td>Diet_Seeds</td>\n",
       "      <td>0.000000e+00</td>\n",
       "    </tr>\n",
       "  </tbody>\n",
       "</table>\n",
       "</div>"
      ],
      "text/plain": [
       "               feature    importance\n",
       "12     MigratoryStatus  2.328767e-02\n",
       "7          Diet_Plants  2.191781e-02\n",
       "13      IncubationTime  1.506849e-02\n",
       "11     ForagingStratum  1.506849e-02\n",
       "15           EggLength  1.369863e-02\n",
       "16            EggWidth  1.369863e-02\n",
       "4          Diet_Fruits  1.232877e-02\n",
       "0        AdultBodyMass  1.095890e-02\n",
       "19        MaxLongevity  9.589041e-03\n",
       "9         TrophicLevel  8.219178e-03\n",
       "1          DietBreadth  6.849315e-03\n",
       "18        NestingHabit  6.849315e-03\n",
       "10       ActivityCycle  6.849315e-03\n",
       "14          ClutchSize  5.479452e-03\n",
       "3     Diet_Vertebrates  5.479452e-03\n",
       "2   Diet_Invertebrates  2.739726e-03\n",
       "17             EggMass  1.369863e-03\n",
       "8           Diet_Other  1.110223e-17\n",
       "5         Diet_Flowers  0.000000e+00\n",
       "6           Diet_Seeds  0.000000e+00"
      ]
     },
     "execution_count": 14,
     "metadata": {},
     "output_type": "execute_result"
    }
   ],
   "source": [
    "# Permutation importance\n",
    "perm_imp = permutation_importance(bagging_clf, # trained model\n",
    "                                 X_test,\n",
    "                                 y_test,\n",
    "                                 n_repeats = 10,\n",
    "                                 random_state=808)\n",
    "\n",
    "\n",
    "# Store and view importance score\n",
    "importance_score = perm_imp.importances_mean\n",
    "feature_names = X_test.columns\n",
    "\n",
    "# Create df to hold feature importances\n",
    "importances_df = pd.DataFrame({'feature': feature_names, 'importance': importance_score})\n",
    "\n",
    "# Sort by importance\n",
    "importances_df = importances_df.sort_values(by='importance', ascending=False)\n",
    "\n",
    "# view\n",
    "importances_df"
   ]
  },
  {
   "cell_type": "markdown",
   "metadata": {},
   "source": [
    "What features are most important in our model of species distribution?"
   ]
  },
  {
   "cell_type": "markdown",
   "metadata": {},
   "source": [
    "The 3 features most important in our model of species distribution are likely nesting habit, adult body mass, and egg length because they are the greatest values of importance."
   ]
  }
 ],
 "metadata": {
  "kernelspec": {
   "display_name": "Anaconda 3 (EDS232)",
   "language": "python",
   "name": "ml-env"
  },
  "language_info": {
   "codemirror_mode": {
    "name": "ipython",
    "version": 3
   },
   "file_extension": ".py",
   "mimetype": "text/x-python",
   "name": "python",
   "nbconvert_exporter": "python",
   "pygments_lexer": "ipython3",
   "version": "3.10.16"
  }
 },
 "nbformat": 4,
 "nbformat_minor": 4
}
